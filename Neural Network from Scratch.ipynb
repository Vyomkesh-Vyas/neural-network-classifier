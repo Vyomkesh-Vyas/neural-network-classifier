{
 "cells": [
  {
   "cell_type": "markdown",
   "id": "77eaa992",
   "metadata": {},
   "source": [
    "# Neural Network from Scratch\n",
    "**Author :** Vyomkesh Vyas  \n",
    "**Date Created :** 9th July 2025"
   ]
  },
  {
   "cell_type": "markdown",
   "id": "2ebaa91f",
   "metadata": {},
   "source": [
    "This notebook depicts a simple example of neural network from scratch for character recognition using numpy library."
   ]
  },
  {
   "cell_type": "markdown",
   "id": "5346ed60",
   "metadata": {},
   "source": [
    "**Step 1:** Import the required libraries."
   ]
  },
  {
   "cell_type": "code",
   "execution_count": 2,
   "id": "128eeedc",
   "metadata": {},
   "outputs": [],
   "source": [
    "# Importing necessary libraries for the neural network implementation.\n",
    "import numpy as np\n",
    "import matplotlib.pyplot as plt"
   ]
  },
  {
   "cell_type": "markdown",
   "id": "98ace64e",
   "metadata": {},
   "source": [
    "**Step 2:** Generate synthetic binary data of characters A, B and C for classification."
   ]
  },
  {
   "cell_type": "code",
   "execution_count": 3,
   "id": "cb4dc288",
   "metadata": {},
   "outputs": [
    {
     "data": {
      "image/png": "[encoded data removed]",
      "text/plain": [
       "<Figure size 640x480 with 1 Axes>"
      ]
     },
     "metadata": {},
     "output_type": "display_data"
    },
    {
     "data": {
      "image/png": "[encoded data removed]",
      "text/plain": [
       "<Figure size 640x480 with 1 Axes>"
      ]
     },
     "metadata": {},
     "output_type": "display_data"
    },
    {
     "data": {
      "image/png": "[encoded data removed]",
      "text/plain": [
       "<Figure size 640x480 with 1 Axes>"
      ]
     },
     "metadata": {},
     "output_type": "display_data"
    }
   ],
   "source": [
    "# Creating dataset\n",
    "# A\n",
    "a =[0, 0, 1, 1, 0, 0,\n",
    "   0, 1, 0, 0, 1, 0,\n",
    "   1, 1, 1, 1, 1, 1,\n",
    "   1, 0, 0, 0, 0, 1,\n",
    "   1, 0, 0, 0, 0, 1]\n",
    "# B\n",
    "b =[0, 1, 1, 1, 1, 0,\n",
    "   0, 1, 0, 0, 1, 0,\n",
    "   0, 1, 1, 1, 1, 0,\n",
    "   0, 1, 0, 0, 1, 0,\n",
    "   0, 1, 1, 1, 1, 0]\n",
    "# C\n",
    "c =[0, 1, 1, 1, 1, 0,\n",
    "   0, 1, 0, 0, 0, 0,\n",
    "   0, 1, 0, 0, 0, 0,\n",
    "   0, 1, 0, 0, 0, 0,\n",
    "   0, 1, 1, 1, 1, 0]\n",
    "\n",
    "# Creating labels\n",
    "y =[[1, 0, 0],\n",
    "   [0, 1, 0],\n",
    "   [0, 0, 1]]\n",
    "\n",
    "# Converting to numpy arrays and reshaping\n",
    "X = [np.array(a).reshape(1, -1),\n",
    "     np.array(b).reshape(1, -1),\n",
    "     np.array(c).reshape(1, -1)]\n",
    "y = np.array(y)\n",
    "\n",
    "# visualizing the data, plotting A, B, C\n",
    "for i in X:\n",
    "   plt.imshow(np.array(i).reshape(5, 6))\n",
    "   plt.show()"
   ]
  },
  {
   "cell_type": "markdown",
   "id": "187a8c6c",
   "metadata": {},
   "source": [
    "**Step 3:** Define the required functions:  \n",
    "(a) generate_wt: This is used to generate random weights for the nodes.  \n",
    "(b) sigmoid: This is used as the activation function during the forward propagation of the neural network.  \n",
    "(c) sigmoid_derivative: This is used to calculate derivative of sigmoid function, to update the weights during the backward propagation.  \n",
    "(d) f_forward: This is used to apply forward propagation on the neural network. Output on the nodes are calculated using the random weights and the activation function.    \n",
    "(e) back_prop: This is used to apply back propagation on the neural network. Weights are updated to minimize the errors on the nodes.  \n",
    "(f) loss: This calculates mean squared error of the true and predicted values.  "
   ]
  },
  {
   "cell_type": "code",
   "execution_count": 4,
   "id": "4b760c57",
   "metadata": {},
   "outputs": [],
   "source": [
    "# Function to generate random weights\n",
    "# This initializes the weights for the neural network\n",
    "def generate_wt(x, y):\n",
    "\tli =[]\n",
    "\tfor i in range(x * y):\n",
    "\t\tli.append(np.random.randn())\n",
    "\treturn(np.array(li).reshape(x, y))\n",
    "\n",
    "# Defining activation function\n",
    "def sigmoid(x):\n",
    "    return 1 / (1 + np.exp(-x))\n",
    "\n",
    "# Defining derivative of activation function\n",
    "# This is used during backpropagation to adjust weights\n",
    "def sigmoid_derivative(x):\n",
    "    return x * (1 - x)\n",
    "\n",
    "# Function to perform forward propagation\n",
    "# This computes the output of the neural network given input data and weights\n",
    "def f_forward(X, W1, W2):\n",
    "    Z1 = np.dot(X, W1)\n",
    "    A1 = sigmoid(Z1)\n",
    "    Z2 = np.dot(A1, W2)\n",
    "    A2 = sigmoid(Z2)\n",
    "    return A1, A2\n",
    "\n",
    "# Function to perform backpropagation\n",
    "# This updates the weights based on the error of the predictions\n",
    "def back_prop(X, y, A1, A2, W1, W2, learning_rate=0.01):\n",
    "    \n",
    "\t# error in output layer\n",
    "    d2 =(A2-y)\n",
    "    d1 = np.multiply((W2.dot((d2.transpose()))).transpose(), \n",
    "\t\t\t\t\t\t\t\t(sigmoid_derivative(A1)))\n",
    "\t# Gradient for w1 and w2\n",
    "    w1_adj = X.transpose().dot(d1)\n",
    "    w2_adj = A1.transpose().dot(d2)\n",
    "    \n",
    "    # Update weights\n",
    "    W1 -= learning_rate * w1_adj\n",
    "    W2 -= learning_rate * w2_adj\n",
    "    \n",
    "    return W1, W2\n",
    "\n",
    "# Function to calculate the loss\n",
    "def loss(y_true, y_pred):\n",
    "    # Mean Squared Error Loss\n",
    "    return np.mean((y_true - y_pred) ** 2)"
   ]
  },
  {
   "cell_type": "markdown",
   "id": "4dadde7e",
   "metadata": {},
   "source": [
    "**Step 4:** Define the neural network architecture by defining number of input layer nodes, hidden layer nodes and output layer nodes. Then generate random weight for each node."
   ]
  },
  {
   "cell_type": "code",
   "execution_count": 5,
   "id": "6be49993",
   "metadata": {},
   "outputs": [
    {
     "name": "stdout",
     "output_type": "stream",
     "text": [
      "Initial Weights W1:\n",
      " [[ 2.28374530e+00 -7.48734769e-01 -7.70740185e-01  7.96829575e-01\n",
      "  -6.88580983e-01 -1.44758540e+00 -7.56552706e-01 -8.70406154e-01\n",
      "   1.09626708e-01  1.97229759e+00]\n",
      " [ 3.49839138e-01 -2.99601713e-02  1.41884961e+00 -8.09486564e-01\n",
      "  -4.05317967e-01 -1.41980444e+00 -1.92106638e+00 -6.90034002e-01\n",
      "  -4.94387663e-01 -7.17831996e-01]\n",
      " [-1.07943391e+00 -1.12266020e-01 -8.72839572e-01  1.37912907e+00\n",
      "   1.34453514e+00  8.26608734e-01  1.96243132e-01 -1.02632166e+00\n",
      "  -3.11971013e-02  3.77086304e-01]\n",
      " [ 8.01738324e-01 -2.83826612e-01 -1.42966084e-01 -3.62667308e-01\n",
      "  -6.49507546e-01  2.92888307e-01  1.05443876e+00 -1.12166915e+00\n",
      "  -2.22054568e-01 -5.31259667e-01]\n",
      " [-1.37872951e+00  3.83063863e-01 -1.00387331e+00  1.08060010e+00\n",
      "  -1.85788299e-01  2.04007259e-01  1.09114380e+00  1.78580996e-01\n",
      "   7.10535896e-01  6.57869752e-01]\n",
      " [ 4.24519943e-01  1.21556884e+00 -7.31549049e-01 -1.83415744e+00\n",
      "  -5.36035452e-01  5.77143490e-01 -1.35167142e-02 -3.16842151e-01\n",
      "   3.51248839e-02 -1.59223413e+00]\n",
      " [ 4.19643303e-01 -2.78283768e-01  7.55065063e-01  2.64714497e+00\n",
      "  -4.95847169e-01 -5.88406341e-02 -5.64723179e-01 -1.09119887e+00\n",
      "   1.84040771e+00  8.94175601e-01]\n",
      " [-5.35292061e-01 -2.28864283e-01 -5.27755212e-01  1.27992930e+00\n",
      "  -5.02226740e-01  1.09583781e+00 -5.57262511e-01  1.19979080e-01\n",
      "   1.40501843e-01  1.38094981e+00]\n",
      " [ 3.31641535e-01 -1.63813837e-01 -8.02455513e-01 -1.24581580e+00\n",
      "  -1.47878470e+00 -6.10061051e-01 -5.41340527e-01  1.04388910e+00\n",
      "   6.45156176e-01 -9.97206624e-01]\n",
      " [-6.24755786e-01 -5.21140784e-01 -1.28922711e+00 -4.70323212e-01\n",
      "  -2.92117632e-02 -3.46392559e-01 -4.30761983e-01  2.52488127e-03\n",
      "  -9.90941419e-01 -1.37905330e+00]\n",
      " [ 3.93996772e-01 -4.17866816e-01 -4.62954353e-01  1.45458953e-02\n",
      "  -1.05779562e-01  1.77050162e+00 -7.60735864e-01  1.23947323e+00\n",
      "  -2.37466152e+00  7.77524659e-01]\n",
      " [ 7.27014162e-01  1.36343079e+00  1.09516798e-01  2.62082971e-01\n",
      "  -2.49789533e+00 -1.88482739e+00 -2.30984837e+00  7.66709021e-01\n",
      "   8.53289208e-01 -6.92187787e-01]\n",
      " [-9.37049884e-01  1.61347717e+00 -4.76493554e-01 -1.22345210e+00\n",
      "   3.65925116e-01  9.12657559e-01 -1.13584344e+00  1.47454166e+00\n",
      "   7.20173902e-01 -1.51817837e+00]\n",
      " [-1.30264159e-01  2.35421327e+00 -5.11199362e-01  4.39622224e-01\n",
      "   9.80441135e-01  1.79627419e+00 -2.74755690e-01  1.56564501e-01\n",
      "  -1.33993806e+00  7.43146083e-01]\n",
      " [ 8.84089837e-01 -1.84458601e+00 -2.03722674e-02  7.60245611e-01\n",
      "  -1.28405383e-01 -2.69590904e-01 -1.75829765e-02  8.59731419e-01\n",
      "   2.20346155e-01 -9.10581692e-01]\n",
      " [ 8.40823262e-01 -9.14080720e-01 -2.90303737e-01 -2.02697304e-01\n",
      "   4.38845994e-01  8.25884090e-01  5.72371866e-01  3.60704143e+00\n",
      "   4.01839948e-01 -1.71261407e+00]\n",
      " [ 1.34601689e+00 -1.71620748e+00 -8.83967498e-01  6.43475812e-01\n",
      "  -8.48218361e-01  1.13024350e+00 -1.46796453e+00  5.75596853e-01\n",
      "  -2.55102920e-01 -1.63257201e+00]\n",
      " [ 7.67146232e-01 -4.36247117e-01 -6.04117028e-01  6.68317610e-01\n",
      "   1.09868071e+00  9.61237205e-02  4.82975144e-01  1.89233514e+00\n",
      "  -7.08764713e-01 -1.17514039e+00]\n",
      " [ 5.53265107e-01 -9.02329251e-01  2.07589969e-01  8.04441862e-02\n",
      "  -7.28580406e-01 -2.43442166e-01 -5.84528253e-01 -4.59295655e-01\n",
      "   9.99173821e-01 -1.01052525e+00]\n",
      " [-1.47354306e-01 -7.25232931e-01 -4.68327581e-01 -3.99648551e-01\n",
      "   4.84944888e-02 -6.84217124e-01 -5.69203633e-01 -3.17392400e-02\n",
      "   4.31128944e-01 -2.05327587e-01]\n",
      " [-1.14770557e-01  2.32159209e-01 -1.14574066e+00 -3.05946520e-01\n",
      "  -1.03030026e+00 -2.58962392e-01 -9.30020921e-01  2.38790871e-01\n",
      "   7.62951711e-01  6.06160359e-02]\n",
      " [-1.13610999e+00  9.66478507e-01 -9.56795141e-01 -2.35230378e+00\n",
      "   1.43878789e+00  7.81678540e-01  6.42420060e-01  6.39161487e-01\n",
      "  -2.19016410e+00  9.97323068e-01]\n",
      " [-1.16783850e+00 -4.18349131e-01  1.35356915e+00 -6.83459713e-01\n",
      "  -3.29549624e-01  8.58153809e-01  6.89810661e-01 -8.46016694e-02\n",
      "  -6.69474582e-01  1.10840257e+00]\n",
      " [ 1.04301488e+00 -1.28562485e+00 -1.11480983e+00 -1.85431293e+00\n",
      "  -2.39541848e+00 -1.47969107e-01  4.82368265e-01  5.34663664e-01\n",
      "   9.96738876e-01 -7.57014774e-01]\n",
      " [ 7.15843177e-01 -5.72936182e-01  6.20898055e-02 -2.49438883e+00\n",
      "  -5.59961487e-02  3.64689858e-01  4.71185026e-02  1.69349984e+00\n",
      "  -6.17986851e-01 -1.03870551e+00]\n",
      " [-6.03834391e-01 -3.79748253e-01 -1.10908273e+00  7.64405322e-01\n",
      "  -1.59379192e+00 -5.60569163e-01  2.87250287e-01  8.64192298e-01\n",
      "  -9.36495457e-02  2.64682800e+00]\n",
      " [ 8.29550295e-01 -3.74065965e-01 -1.19478410e-01  1.08714805e+00\n",
      "  -4.39476995e-01 -1.37862506e+00 -2.02784246e-01 -4.55052220e-01\n",
      "  -2.46292290e-01 -1.52717949e+00]\n",
      " [-2.81489224e+00  4.89825970e-01 -2.14038925e-01  3.08909758e-01\n",
      "  -2.21532417e+00 -8.28943489e-02  5.13300388e-01 -7.42053896e-01\n",
      "   1.09001896e+00 -1.24866298e+00]\n",
      " [ 4.00132044e-01  9.31063750e-02 -1.18632286e+00 -2.26820634e+00\n",
      "  -1.26789287e+00 -1.10824867e+00 -3.16648920e-01  8.23140359e-01\n",
      "  -3.44750911e-01 -1.05093830e+00]\n",
      " [ 1.92532951e-01  1.03640872e+00  1.41354478e+00  1.49200066e+00\n",
      "  -4.06287525e-02 -3.52790638e-01  1.09112767e+00 -2.90025827e-01\n",
      "   8.97392310e-01 -4.44477938e-01]]\n",
      "Initial Weights W2:\n",
      " [[ 2.02125744  1.4179596  -0.53063219]\n",
      " [-0.36123386  1.9522772  -0.57558211]\n",
      " [ 0.07759835  0.50856342  0.93790758]\n",
      " [ 0.31868328 -0.36893953 -1.09622272]\n",
      " [ 0.41428947  0.7395679   0.49460755]\n",
      " [ 0.4882727  -0.4237768  -0.53253577]\n",
      " [ 0.73128814 -0.51561839  1.62449266]\n",
      " [ 0.65100168  1.33555315 -0.34312681]\n",
      " [ 1.38095752 -0.79257145 -0.40744926]\n",
      " [-0.32769645  1.48909846 -0.04712571]]\n"
     ]
    }
   ],
   "source": [
    "# Generating random weights for the neural network\n",
    "input_size = X[0].shape[1]  # Number of features in input\n",
    "output_size = y.shape[1]  # Number of classes\n",
    "\n",
    "W1 = generate_wt(input_size, 10)  # Hidden layer with 10 neurons\n",
    "W2 = generate_wt(10, output_size)  # Output layer\n",
    "\n",
    "print(\"Initial Weights W1:\\n\", W1)\n",
    "print(\"Initial Weights W2:\\n\", W2)"
   ]
  },
  {
   "cell_type": "markdown",
   "id": "a6504849",
   "metadata": {},
   "source": [
    "**Step 5:** Train the neural network using the defined functions. Following steps are applied for training:  \n",
    "(i) Calculate the output of nodes from the forward propagation.  \n",
    "(ii) Calculate loss from the output of the final node and the true value.  \n",
    "(iii) Update the weights using backward propagation.  \n",
    "(iv) Repeat the process for epochs number of times.  "
   ]
  },
  {
   "cell_type": "code",
   "execution_count": 6,
   "id": "dc035544",
   "metadata": {},
   "outputs": [
    {
     "name": "stdout",
     "output_type": "stream",
     "text": [
      "Epoch 1, Loss: 0.3858491035872338, Accuracy: 61.42%\n",
      "Epoch 2, Loss: 0.3460644852971271, Accuracy: 65.39%\n",
      "Epoch 3, Loss: 0.30739910812413945, Accuracy: 69.26%\n",
      "Epoch 4, Loss: 0.27148591800146477, Accuracy: 72.85%\n",
      "Epoch 5, Loss: 0.23989132571570781, Accuracy: 76.01%\n",
      "Epoch 6, Loss: 0.21303058502590708, Accuracy: 78.70%\n",
      "Epoch 7, Loss: 0.19041879335012835, Accuracy: 80.96%\n",
      "Epoch 8, Loss: 0.17130396937409045, Accuracy: 82.87%\n",
      "Epoch 9, Loss: 0.15496915080375473, Accuracy: 84.50%\n",
      "Epoch 10, Loss: 0.14080350079365136, Accuracy: 85.92%\n",
      "Epoch 11, Loss: 0.12830562924227992, Accuracy: 87.17%\n",
      "Epoch 12, Loss: 0.11708101390368486, Accuracy: 88.29%\n",
      "Epoch 13, Loss: 0.10685138344030658, Accuracy: 89.31%\n",
      "Epoch 14, Loss: 0.09747320923323505, Accuracy: 90.25%\n",
      "Epoch 15, Loss: 0.08893834175518302, Accuracy: 91.11%\n",
      "Epoch 16, Loss: 0.08131923985442696, Accuracy: 91.87%\n",
      "Epoch 17, Loss: 0.07466866083983986, Accuracy: 92.53%\n",
      "Epoch 18, Loss: 0.06895072226064171, Accuracy: 93.10%\n",
      "Epoch 19, Loss: 0.06405061320322464, Accuracy: 93.59%\n",
      "Epoch 20, Loss: 0.05982445976931833, Accuracy: 94.02%\n",
      "Epoch 21, Loss: 0.05613799154776181, Accuracy: 94.39%\n",
      "Epoch 22, Loss: 0.052881546218051745, Accuracy: 94.71%\n",
      "Epoch 23, Loss: 0.04997067855277474, Accuracy: 95.00%\n",
      "Epoch 24, Loss: 0.04734168498797501, Accuracy: 95.27%\n",
      "Epoch 25, Loss: 0.0449465438360335, Accuracy: 95.51%\n",
      "Epoch 26, Loss: 0.0427487141748557, Accuracy: 95.73%\n",
      "Epoch 27, Loss: 0.04071999100539783, Accuracy: 95.93%\n",
      "Epoch 28, Loss: 0.03883824310861997, Accuracy: 96.12%\n",
      "Epoch 29, Loss: 0.03708580681881215, Accuracy: 96.29%\n",
      "Epoch 30, Loss: 0.03544834576427602, Accuracy: 96.46%\n",
      "Epoch 31, Loss: 0.033914036392192155, Accuracy: 96.61%\n",
      "Epoch 32, Loss: 0.03247298070690078, Accuracy: 96.75%\n",
      "Epoch 33, Loss: 0.031116778146975183, Accuracy: 96.89%\n",
      "Epoch 34, Loss: 0.02983820977395373, Accuracy: 97.02%\n",
      "Epoch 35, Loss: 0.028631002464281633, Accuracy: 97.14%\n",
      "Epoch 36, Loss: 0.027489650666597264, Accuracy: 97.25%\n",
      "Epoch 37, Loss: 0.026409280011354206, Accuracy: 97.36%\n",
      "Epoch 38, Loss: 0.02538554166827427, Accuracy: 97.46%\n",
      "Epoch 39, Loss: 0.02441452952976271, Accuracy: 97.56%\n",
      "Epoch 40, Loss: 0.023492714515293323, Accuracy: 97.65%\n",
      "Epoch 41, Loss: 0.022616891849745437, Accuracy: 97.74%\n",
      "Epoch 42, Loss: 0.021784138273391863, Accuracy: 97.82%\n",
      "Epoch 43, Loss: 0.02099177693146347, Accuracy: 97.90%\n",
      "Epoch 44, Loss: 0.02023734826135359, Accuracy: 97.98%\n",
      "Epoch 45, Loss: 0.019518585610314304, Accuracy: 98.05%\n",
      "Epoch 46, Loss: 0.018833394620734883, Accuracy: 98.12%\n",
      "Epoch 47, Loss: 0.018179835645017295, Accuracy: 98.18%\n",
      "Epoch 48, Loss: 0.017556108619650877, Accuracy: 98.24%\n",
      "Epoch 49, Loss: 0.016960539953905677, Accuracy: 98.30%\n",
      "Epoch 50, Loss: 0.016391571083734582, Accuracy: 98.36%\n",
      "Epoch 51, Loss: 0.01584774841399562, Accuracy: 98.42%\n",
      "Epoch 52, Loss: 0.015327714427773975, Accuracy: 98.47%\n",
      "Epoch 53, Loss: 0.014830199784624376, Accuracy: 98.52%\n",
      "Epoch 54, Loss: 0.014354016263072077, Accuracy: 98.56%\n",
      "Epoch 55, Loss: 0.013898050428998707, Accuracy: 98.61%\n",
      "Epoch 56, Loss: 0.013461257932303848, Accuracy: 98.65%\n",
      "Epoch 57, Loss: 0.013042658350748493, Accuracy: 98.70%\n",
      "Epoch 58, Loss: 0.012641330513116686, Accuracy: 98.74%\n",
      "Epoch 59, Loss: 0.012256408244501091, Accuracy: 98.77%\n",
      "Epoch 60, Loss: 0.01188707648518348, Accuracy: 98.81%\n",
      "Epoch 61, Loss: 0.0115325677416652, Accuracy: 98.85%\n",
      "Epoch 62, Loss: 0.011192158834233893, Accuracy: 98.88%\n",
      "Epoch 63, Loss: 0.010865167910283309, Accuracy: 98.91%\n",
      "Epoch 64, Loss: 0.0105509516966315, Accuracy: 98.94%\n",
      "Epoch 65, Loss: 0.01024890296746262, Accuracy: 98.98%\n",
      "Epoch 66, Loss: 0.009958448207371075, Accuracy: 99.00%\n",
      "Epoch 67, Loss: 0.009679045451410464, Accuracy: 99.03%\n",
      "Epoch 68, Loss: 0.009410182286119617, Accuracy: 99.06%\n",
      "Epoch 69, Loss: 0.009151373997275768, Accuracy: 99.08%\n",
      "Epoch 70, Loss: 0.008902161851660104, Accuracy: 99.11%\n",
      "Epoch 71, Loss: 0.008662111501452045, Accuracy: 99.13%\n",
      "Epoch 72, Loss: 0.008430811501030503, Accuracy: 99.16%\n",
      "Epoch 73, Loss: 0.008207871926976246, Accuracy: 99.18%\n",
      "Epoch 74, Loss: 0.007992923092963943, Accuracy: 99.20%\n",
      "Epoch 75, Loss: 0.007785614352021423, Accuracy: 99.22%\n",
      "Epoch 76, Loss: 0.007585612979333319, Accuracy: 99.24%\n",
      "Epoch 77, Loss: 0.007392603129387394, Accuracy: 99.26%\n",
      "Epoch 78, Loss: 0.007206284861816822, Accuracy: 99.28%\n",
      "Epoch 79, Loss: 0.007026373230787183, Accuracy: 99.30%\n",
      "Epoch 80, Loss: 0.006852597433222026, Accuracy: 99.31%\n",
      "Epoch 81, Loss: 0.006684700011560622, Accuracy: 99.33%\n",
      "Epoch 82, Loss: 0.0065224361071018234, Accuracy: 99.35%\n",
      "Epoch 83, Loss: 0.0063655727603137745, Accuracy: 99.36%\n",
      "Epoch 84, Loss: 0.006213888254783302, Accuracy: 99.38%\n",
      "Epoch 85, Loss: 0.006067171501746387, Accuracy: 99.39%\n",
      "Epoch 86, Loss: 0.005925221462383151, Accuracy: 99.41%\n",
      "Epoch 87, Loss: 0.005787846605281585, Accuracy: 99.42%\n",
      "Epoch 88, Loss: 0.005654864396675434, Accuracy: 99.43%\n",
      "Epoch 89, Loss: 0.005526100821244449, Accuracy: 99.45%\n",
      "Epoch 90, Loss: 0.005401389931432994, Accuracy: 99.46%\n",
      "Epoch 91, Loss: 0.005280573423396359, Accuracy: 99.47%\n",
      "Epoch 92, Loss: 0.005163500237823605, Accuracy: 99.48%\n",
      "Epoch 93, Loss: 0.005050026184015197, Accuracy: 99.49%\n",
      "Epoch 94, Loss: 0.004940013585710835, Accuracy: 99.51%\n",
      "Epoch 95, Loss: 0.00483333094727188, Accuracy: 99.52%\n",
      "Epoch 96, Loss: 0.00472985263892181, Accuracy: 99.53%\n",
      "Epoch 97, Loss: 0.0046294585998402586, Accuracy: 99.54%\n",
      "Epoch 98, Loss: 0.0045320340579904144, Accuracy: 99.55%\n",
      "Epoch 99, Loss: 0.004437469265637343, Accuracy: 99.56%\n",
      "Epoch 100, Loss: 0.004345659249586791, Accuracy: 99.57%\n"
     ]
    }
   ],
   "source": [
    "# Function to train the neural network\n",
    "# This function performs multiple epochs of training on the dataset\n",
    "def train(X, y, W1, W2, epochs=1000, learning_rate=0.01):\n",
    "    acc = []\n",
    "    losses = []\n",
    "    for epoch in range(epochs):\n",
    "        l = []\n",
    "        for i in range(len(X)):\n",
    "            # Forward pass\n",
    "            A1, A2 = f_forward(X[i], W1, W2)\n",
    "            \n",
    "            # Calculate loss\n",
    "            current_loss = loss(y[i], A2)\n",
    "            l.append(current_loss)\n",
    "            \n",
    "            # Backward pass\n",
    "            W1, W2 = back_prop(X[i], y[i], A1, A2, W1, W2, learning_rate)\n",
    "        \n",
    "        accuracy = (1 - np.mean(l))*100  # Calculate accuracy as 1 - mean loss\n",
    "        print(f'Epoch {epoch + 1}, Loss: {np.mean(l)}, Accuracy: {accuracy:.2f}%')\n",
    "        acc.append(accuracy)\n",
    "        losses.append(np.mean(l))\n",
    "    \n",
    "    return acc, losses, W1, W2\n",
    "\n",
    "# Training the neural network\n",
    "acc, losses, W1, W2 = train(X, y, W1, W2, epochs=100, learning_rate=0.1)"
   ]
  },
  {
   "cell_type": "markdown",
   "id": "ccb688e0",
   "metadata": {},
   "source": [
    "**Step 6:** Plot the accuracy and loss over the range of epochs.  \n",
    "**Insight:** Plot of loss shows gradual decrease in value over the range while vice versa for plot of accuracy.  "
   ]
  },
  {
   "cell_type": "code",
   "execution_count": 7,
   "id": "f1409698",
   "metadata": {},
   "outputs": [
    {
     "data": {
      "image/png": "[encoded data removed]",
      "text/plain": [
       "<Figure size 640x480 with 1 Axes>"
      ]
     },
     "metadata": {},
     "output_type": "display_data"
    },
    {
     "data": {
      "image/png": "[encoded data removed]",
      "text/plain": [
       "<Figure size 640x480 with 1 Axes>"
      ]
     },
     "metadata": {},
     "output_type": "display_data"
    }
   ],
   "source": [
    "# plotting accuracy\n",
    "plt.plot(acc)\n",
    "plt.ylabel('Accuracy')\n",
    "plt.xlabel(\"Epochs:\")\n",
    "plt.show()\n",
    "\n",
    "# plotting Loss\n",
    "plt.plot(losses)\n",
    "plt.ylabel('Loss')\n",
    "plt.xlabel(\"Epochs:\")\n",
    "plt.show() "
   ]
  },
  {
   "cell_type": "markdown",
   "id": "103ed9b0",
   "metadata": {},
   "source": [
    "**Step 7:** We use the trained weights to predict letter class for the new input.  "
   ]
  },
  {
   "cell_type": "code",
   "execution_count": 8,
   "id": "018e9bfc",
   "metadata": {},
   "outputs": [
    {
     "name": "stdout",
     "output_type": "stream",
     "text": [
      "Predicted: B\n"
     ]
    },
    {
     "data": {
      "image/png": "[encoded data removed]",
      "text/plain": [
       "<Figure size 640x480 with 1 Axes>"
      ]
     },
     "metadata": {},
     "output_type": "display_data"
    }
   ],
   "source": [
    "def predict(X, W1, W2):\n",
    "    # Forward pass to get predictions\n",
    "    _, A2 = f_forward(X, W1, W2)\n",
    "    maxm = 0\n",
    "    for i in range(len(A2[0])):\n",
    "        if A2[0][i] > maxm:\n",
    "            maxm = A2[0][i]\n",
    "            index = i\n",
    "    if index == 0:\n",
    "        print(\"Predicted: A\")\n",
    "    elif index == 1:\n",
    "        print(\"Predicted: B\")\n",
    "    elif index == 2:\n",
    "        print(\"Predicted: C\")\n",
    "    plt.imshow(np.array(X).reshape(5, 6))\n",
    "    plt.show()\n",
    "predict(X[1], W1, W2)  \n"
   ]
  }
 ],
 "metadata": {
  "kernelspec": {
   "display_name": ".venv",
   "language": "python",
   "name": "python3"
  },
  "language_info": {
   "codemirror_mode": {
    "name": "ipython",
    "version": 3
   },
   "file_extension": ".py",
   "mimetype": "text/x-python",
   "name": "python",
   "nbconvert_exporter": "python",
   "pygments_lexer": "ipython3",
   "version": "3.11.9"
  }
 },
 "nbformat": 4,
 "nbformat_minor": 5
}
